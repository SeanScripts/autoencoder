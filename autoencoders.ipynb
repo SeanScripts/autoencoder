{
 "cells": [
  {
   "cell_type": "code",
   "execution_count": 48,
   "metadata": {},
   "outputs": [],
   "source": [
    "import numpy as np\n",
    "import tensorflow as tf\n",
    "from tensorflow.keras.layers import *\n",
    "from tensorflow.keras import Model\n",
    "from tensorflow.keras.models import Sequential\n",
    "import matplotlib.pyplot as plt\n",
    "%matplotlib inline"
   ]
  },
  {
   "cell_type": "code",
   "execution_count": 224,
   "metadata": {},
   "outputs": [],
   "source": [
    "# Generate data\n",
    "# Bias the data along some chosen directions\n",
    "pc1 = (-1+2*np.random.random(8))\n",
    "pc1 = pc1/np.linalg.norm(pc1)\n",
    "pc2 = (-1+2*np.random.random(8))\n",
    "pc2 = pc2/(2*np.linalg.norm(pc2))\n",
    "pc3 = (-1+2*np.random.random(8))\n",
    "pc3 = pc3/(4*np.linalg.norm(pc3))\n",
    "pc4 = (-1+2*np.random.random(8))\n",
    "pc4 = pc4/(8*np.linalg.norm(pc4))\n",
    "data = np.zeros((5000, 8))\n",
    "coeffdata = np.zeros((5000, 4))\n",
    "for i in range(1000):\n",
    "    coeffs = (-1 + 2*np.random.random(4))\n",
    "    coeffdata[i] = coeffs\n",
    "    data[i] = pc1 * coeffs[0] + pc2 * coeffs[1] + pc3 * coeffs[2] + pc4 * coeffs[3]"
   ]
  },
  {
   "cell_type": "code",
   "execution_count": 226,
   "metadata": {},
   "outputs": [
    {
     "data": {
      "text/plain": [
       "<matplotlib.collections.PathCollection at 0x21196dcf978>"
      ]
     },
     "execution_count": 226,
     "metadata": {},
     "output_type": "execute_result"
    },
    {
     "data": {
      "image/png": "[encoded data removed]",
      "text/plain": [
       "<Figure size 576x576 with 1 Axes>"
      ]
     },
     "metadata": {
      "needs_background": "light"
     },
     "output_type": "display_data"
    }
   ],
   "source": [
    "plt.figure(figsize=(8,8))\n",
    "plt.scatter(data[:, 0], data[:, 1])"
   ]
  },
  {
   "cell_type": "code",
   "execution_count": 248,
   "metadata": {},
   "outputs": [
    {
     "name": "stdout",
     "output_type": "stream",
     "text": [
      "Model: \"sequential_37\"\n",
      "_________________________________________________________________\n",
      "Layer (type)                 Output Shape              Param #   \n",
      "=================================================================\n",
      "dense_60 (Dense)             (None, 4)                 32        \n",
      "_________________________________________________________________\n",
      "dense_61 (Dense)             (None, 8)                 32        \n",
      "=================================================================\n",
      "Total params: 64\n",
      "Trainable params: 64\n",
      "Non-trainable params: 0\n",
      "_________________________________________________________________\n"
     ]
    }
   ],
   "source": [
    "# Make the network\n",
    "ae = Sequential()\n",
    "ae.add(Input(8))\n",
    "ae.add(Dense(4, use_bias=False, activation='linear', kernel_initializer='orthogonal'))\n",
    "ae.add(Dense(8, use_bias=False, activation='linear', kernel_initializer='orthogonal'))\n",
    "ae.compile(optimizer='adam', loss='mse', metrics=['accuracy'])\n",
    "ae.summary()"
   ]
  },
  {
   "cell_type": "code",
   "execution_count": 249,
   "metadata": {
    "scrolled": true
   },
   "outputs": [
    {
     "name": "stdout",
     "output_type": "stream",
     "text": [
      "Train on 5000 samples\n",
      "Epoch 1/100\n",
      "5000/5000 [==============================] - 1s 120us/sample - loss: 0.0093 - accuracy: 0.8516\n",
      "Epoch 2/100\n",
      "5000/5000 [==============================] - 0s 82us/sample - loss: 0.0044 - accuracy: 0.8920\n",
      "Epoch 3/100\n",
      "5000/5000 [==============================] - 0s 85us/sample - loss: 0.0024 - accuracy: 0.9330\n",
      "Epoch 4/100\n",
      "5000/5000 [==============================] - 0s 83us/sample - loss: 0.0015 - accuracy: 0.9402\n",
      "Epoch 5/100\n",
      "5000/5000 [==============================] - 0s 84us/sample - loss: 9.3847e-04 - accuracy: 0.9466\n",
      "Epoch 6/100\n",
      "5000/5000 [==============================] - 0s 86us/sample - loss: 5.7538e-04 - accuracy: 0.9590\n",
      "Epoch 7/100\n",
      "5000/5000 [==============================] - 0s 86us/sample - loss: 3.7617e-04 - accuracy: 0.9666\n",
      "Epoch 8/100\n",
      "5000/5000 [==============================] - 0s 77us/sample - loss: 2.8748e-04 - accuracy: 0.9724\n",
      "Epoch 9/100\n",
      "5000/5000 [==============================] - 0s 78us/sample - loss: 2.4392e-04 - accuracy: 0.9746\n",
      "Epoch 10/100\n",
      "5000/5000 [==============================] - 0s 76us/sample - loss: 2.1398e-04 - accuracy: 0.9776\n",
      "Epoch 11/100\n",
      "5000/5000 [==============================] - 0s 78us/sample - loss: 1.8976e-04 - accuracy: 0.9762\n",
      "Epoch 12/100\n",
      "5000/5000 [==============================] - 0s 73us/sample - loss: 1.6849e-04 - accuracy: 0.9774\n",
      "Epoch 13/100\n",
      "5000/5000 [==============================] - 0s 75us/sample - loss: 1.5007e-04 - accuracy: 0.9776\n",
      "Epoch 14/100\n",
      "5000/5000 [==============================] - 0s 75us/sample - loss: 1.3354e-04 - accuracy: 0.9798\n",
      "Epoch 15/100\n",
      "5000/5000 [==============================] - 0s 76us/sample - loss: 1.1851e-04 - accuracy: 0.9806s - loss: 1.1396e-04 - ac\n",
      "Epoch 16/100\n",
      "5000/5000 [==============================] - 0s 75us/sample - loss: 1.0481e-04 - accuracy: 0.9818\n",
      "Epoch 17/100\n",
      "5000/5000 [==============================] - 0s 74us/sample - loss: 9.2210e-05 - accuracy: 0.9834\n",
      "Epoch 18/100\n",
      "5000/5000 [==============================] - 0s 74us/sample - loss: 8.1349e-05 - accuracy: 0.9846\n",
      "Epoch 19/100\n",
      "5000/5000 [==============================] - 0s 71us/sample - loss: 7.1669e-05 - accuracy: 0.9860\n",
      "Epoch 20/100\n",
      "5000/5000 [==============================] - 0s 75us/sample - loss: 6.3338e-05 - accuracy: 0.9850\n",
      "Epoch 21/100\n",
      "5000/5000 [==============================] - 0s 75us/sample - loss: 5.6231e-05 - accuracy: 0.9862\n",
      "Epoch 22/100\n",
      "5000/5000 [==============================] - 0s 77us/sample - loss: 5.0184e-05 - accuracy: 0.9868\n",
      "Epoch 23/100\n",
      "5000/5000 [==============================] - 0s 72us/sample - loss: 4.4688e-05 - accuracy: 0.9876\n",
      "Epoch 24/100\n",
      "5000/5000 [==============================] - 0s 76us/sample - loss: 4.0010e-05 - accuracy: 0.9886\n",
      "Epoch 25/100\n",
      "5000/5000 [==============================] - 0s 74us/sample - loss: 3.5666e-05 - accuracy: 0.9894\n",
      "Epoch 26/100\n",
      "5000/5000 [==============================] - 0s 78us/sample - loss: 3.1636e-05 - accuracy: 0.9900\n",
      "Epoch 27/100\n",
      "5000/5000 [==============================] - 0s 75us/sample - loss: 2.7768e-05 - accuracy: 0.9902\n",
      "Epoch 28/100\n",
      "5000/5000 [==============================] - 0s 77us/sample - loss: 2.4233e-05 - accuracy: 0.9900\n",
      "Epoch 29/100\n",
      "5000/5000 [==============================] - 0s 75us/sample - loss: 2.0785e-05 - accuracy: 0.9906\n",
      "Epoch 30/100\n",
      "5000/5000 [==============================] - 0s 78us/sample - loss: 1.7450e-05 - accuracy: 0.9914\n",
      "Epoch 31/100\n",
      "5000/5000 [==============================] - 0s 75us/sample - loss: 1.4497e-05 - accuracy: 0.9914\n",
      "Epoch 32/100\n",
      "5000/5000 [==============================] - 0s 75us/sample - loss: 1.1719e-05 - accuracy: 0.9924\n",
      "Epoch 33/100\n",
      "5000/5000 [==============================] - 0s 75us/sample - loss: 9.2931e-06 - accuracy: 0.9928\n",
      "Epoch 34/100\n",
      "5000/5000 [==============================] - 0s 75us/sample - loss: 6.9989e-06 - accuracy: 0.9932\n",
      "Epoch 35/100\n",
      "5000/5000 [==============================] - 0s 77us/sample - loss: 5.2173e-06 - accuracy: 0.9934\n",
      "Epoch 36/100\n",
      "5000/5000 [==============================] - 0s 75us/sample - loss: 3.6655e-06 - accuracy: 0.9938\n",
      "Epoch 37/100\n",
      "5000/5000 [==============================] - 0s 73us/sample - loss: 2.4835e-06 - accuracy: 0.9938\n",
      "Epoch 38/100\n",
      "5000/5000 [==============================] - 0s 75us/sample - loss: 1.6218e-06 - accuracy: 0.9950\n",
      "Epoch 39/100\n",
      "5000/5000 [==============================] - 0s 81us/sample - loss: 1.0142e-06 - accuracy: 0.9964\n",
      "Epoch 40/100\n",
      "5000/5000 [==============================] - 0s 82us/sample - loss: 6.1549e-07 - accuracy: 0.9970\n",
      "Epoch 41/100\n",
      "5000/5000 [==============================] - 0s 81us/sample - loss: 3.4914e-07 - accuracy: 0.9980\n",
      "Epoch 42/100\n",
      "5000/5000 [==============================] - 0s 82us/sample - loss: 1.9468e-07 - accuracy: 0.9986\n",
      "Epoch 43/100\n",
      "5000/5000 [==============================] - 0s 100us/sample - loss: 1.0197e-07 - accuracy: 0.9986\n",
      "Epoch 44/100\n",
      "5000/5000 [==============================] - 0s 77us/sample - loss: 5.1670e-08 - accuracy: 0.9990\n",
      "Epoch 45/100\n",
      "5000/5000 [==============================] - 0s 87us/sample - loss: 2.4716e-08 - accuracy: 0.9992\n",
      "Epoch 46/100\n",
      "5000/5000 [==============================] - 0s 85us/sample - loss: 1.1465e-08 - accuracy: 0.9996\n",
      "Epoch 47/100\n",
      "5000/5000 [==============================] - 1s 105us/sample - loss: 4.9531e-09 - accuracy: 0.9998\n",
      "Epoch 48/100\n",
      "5000/5000 [==============================] - 0s 70us/sample - loss: 1.9695e-09 - accuracy: 1.0000\n",
      "Epoch 49/100\n",
      "5000/5000 [==============================] - 0s 71us/sample - loss: 7.3279e-10 - accuracy: 1.0000\n",
      "Epoch 50/100\n",
      "5000/5000 [==============================] - 0s 73us/sample - loss: 2.4824e-10 - accuracy: 1.0000\n",
      "Epoch 51/100\n",
      "5000/5000 [==============================] - 0s 65us/sample - loss: 7.7433e-11 - accuracy: 1.0000\n",
      "Epoch 52/100\n",
      "5000/5000 [==============================] - 0s 95us/sample - loss: 2.2579e-11 - accuracy: 1.0000\n",
      "Epoch 53/100\n",
      "5000/5000 [==============================] - 0s 88us/sample - loss: 5.6653e-12 - accuracy: 1.0000\n",
      "Epoch 54/100\n",
      "5000/5000 [==============================] - 0s 84us/sample - loss: 1.3303e-12 - accuracy: 1.0000\n",
      "Epoch 55/100\n",
      "5000/5000 [==============================] - 0s 73us/sample - loss: 2.7304e-13 - accuracy: 1.0000\n",
      "Epoch 56/100\n",
      "5000/5000 [==============================] - 0s 68us/sample - loss: 4.6900e-14 - accuracy: 1.0000\n",
      "Epoch 57/100\n",
      "5000/5000 [==============================] - 0s 69us/sample - loss: 7.9710e-15 - accuracy: 1.0000\n",
      "Epoch 58/100\n",
      "5000/5000 [==============================] - 0s 71us/sample - loss: 1.9848e-15 - accuracy: 1.0000\n",
      "Epoch 59/100\n",
      "5000/5000 [==============================] - 0s 72us/sample - loss: 1.2490e-15 - accuracy: 1.0000\n",
      "Epoch 60/100\n",
      "5000/5000 [==============================] - 0s 68us/sample - loss: 5.4128e-16 - accuracy: 1.0000\n",
      "Epoch 61/100\n",
      "5000/5000 [==============================] - 0s 68us/sample - loss: 4.0208e-16 - accuracy: 1.0000\n",
      "Epoch 62/100\n",
      "5000/5000 [==============================] - 0s 66us/sample - loss: 3.4823e-16 - accuracy: 1.0000\n",
      "Epoch 63/100\n",
      "5000/5000 [==============================] - 0s 69us/sample - loss: 1.5828e-16 - accuracy: 1.0000\n",
      "Epoch 64/100\n",
      "5000/5000 [==============================] - 0s 66us/sample - loss: 3.5432e-16 - accuracy: 1.0000\n",
      "Epoch 65/100\n",
      "5000/5000 [==============================] - 0s 64us/sample - loss: 1.6652e-16 - accuracy: 1.0000\n",
      "Epoch 66/100\n",
      "5000/5000 [==============================] - 0s 67us/sample - loss: 2.7244e-15 - accuracy: 1.0000\n",
      "Epoch 67/100\n",
      "5000/5000 [==============================] - 0s 68us/sample - loss: 2.6451e-13 - accuracy: 1.0000\n",
      "Epoch 68/100\n",
      "5000/5000 [==============================] - 0s 69us/sample - loss: 1.5458e-11 - accuracy: 1.0000\n",
      "Epoch 69/100\n",
      "5000/5000 [==============================] - 0s 67us/sample - loss: 5.6748e-09 - accuracy: 0.9998\n",
      "Epoch 70/100\n",
      "5000/5000 [==============================] - 0s 66us/sample - loss: 3.6902e-08 - accuracy: 0.9998\n",
      "Epoch 71/100\n",
      "5000/5000 [==============================] - 0s 67us/sample - loss: 1.9562e-09 - accuracy: 0.9998\n",
      "Epoch 72/100\n",
      "5000/5000 [==============================] - 0s 66us/sample - loss: 8.6873e-11 - accuracy: 1.0000\n",
      "Epoch 73/100\n",
      "5000/5000 [==============================] - 0s 67us/sample - loss: 6.0308e-08 - accuracy: 0.9994\n",
      "Epoch 74/100\n"
     ]
    },
    {
     "name": "stdout",
     "output_type": "stream",
     "text": [
      "5000/5000 [==============================] - 0s 66us/sample - loss: 3.9200e-07 - accuracy: 0.9996\n",
      "Epoch 75/100\n",
      "5000/5000 [==============================] - 0s 68us/sample - loss: 6.0936e-12 - accuracy: 1.0000\n",
      "Epoch 76/100\n",
      "5000/5000 [==============================] - 0s 67us/sample - loss: 8.2396e-15 - accuracy: 1.0000\n",
      "Epoch 77/100\n",
      "5000/5000 [==============================] - 0s 65us/sample - loss: 7.5264e-17 - accuracy: 1.0000\n",
      "Epoch 78/100\n",
      "5000/5000 [==============================] - 0s 66us/sample - loss: 8.7938e-17 - accuracy: 1.0000\n",
      "Epoch 79/100\n",
      "5000/5000 [==============================] - 0s 66us/sample - loss: 8.1368e-17 - accuracy: 1.0000\n",
      "Epoch 80/100\n",
      "5000/5000 [==============================] - 0s 69us/sample - loss: 8.2248e-17 - accuracy: 1.0000\n",
      "Epoch 81/100\n",
      "5000/5000 [==============================] - 0s 66us/sample - loss: 8.8444e-17 - accuracy: 1.0000\n",
      "Epoch 82/100\n",
      "5000/5000 [==============================] - 0s 69us/sample - loss: 1.5754e-16 - accuracy: 1.0000\n",
      "Epoch 83/100\n",
      "5000/5000 [==============================] - 0s 65us/sample - loss: 2.3656e-15 - accuracy: 1.0000\n",
      "Epoch 84/100\n",
      "5000/5000 [==============================] - 0s 67us/sample - loss: 2.0544e-11 - accuracy: 1.0000\n",
      "Epoch 85/100\n",
      "5000/5000 [==============================] - 0s 66us/sample - loss: 1.3533e-11 - accuracy: 1.0000\n",
      "Epoch 86/100\n",
      "5000/5000 [==============================] - 0s 65us/sample - loss: 1.2588e-08 - accuracy: 0.9998\n",
      "Epoch 87/100\n",
      "5000/5000 [==============================] - 0s 69us/sample - loss: 8.1253e-08 - accuracy: 0.9992\n",
      "Epoch 88/100\n",
      "5000/5000 [==============================] - 0s 68us/sample - loss: 3.2573e-09 - accuracy: 1.0000\n",
      "Epoch 89/100\n",
      "5000/5000 [==============================] - 0s 65us/sample - loss: 1.6049e-09 - accuracy: 1.0000\n",
      "Epoch 90/100\n",
      "5000/5000 [==============================] - 0s 69us/sample - loss: 6.2811e-09 - accuracy: 1.0000\n",
      "Epoch 91/100\n",
      "5000/5000 [==============================] - 0s 66us/sample - loss: 4.7994e-08 - accuracy: 0.9996\n",
      "Epoch 92/100\n",
      "5000/5000 [==============================] - 0s 65us/sample - loss: 9.9380e-10 - accuracy: 1.0000\n",
      "Epoch 93/100\n",
      "5000/5000 [==============================] - 0s 66us/sample - loss: 4.1656e-10 - accuracy: 1.0000\n",
      "Epoch 94/100\n",
      "5000/5000 [==============================] - 0s 67us/sample - loss: 5.1570e-10 - accuracy: 0.9998\n",
      "Epoch 95/100\n",
      "5000/5000 [==============================] - 0s 73us/sample - loss: 3.6291e-10 - accuracy: 1.0000\n",
      "Epoch 96/100\n",
      "5000/5000 [==============================] - 0s 68us/sample - loss: 9.6187e-09 - accuracy: 0.9998\n",
      "Epoch 97/100\n",
      "5000/5000 [==============================] - 0s 65us/sample - loss: 9.0674e-08 - accuracy: 0.9992\n",
      "Epoch 98/100\n",
      "5000/5000 [==============================] - 0s 68us/sample - loss: 4.2711e-09 - accuracy: 0.9996\n",
      "Epoch 99/100\n",
      "5000/5000 [==============================] - 0s 64us/sample - loss: 4.5127e-11 - accuracy: 1.0000\n",
      "Epoch 100/100\n",
      "5000/5000 [==============================] - 0s 71us/sample - loss: 2.9803e-09 - accuracy: 1.0000\n"
     ]
    }
   ],
   "source": [
    "# As an autoencoder, train x and train y are the same\n",
    "h = ae.fit(data, data, epochs = 100)"
   ]
  },
  {
   "cell_type": "code",
   "execution_count": 250,
   "metadata": {
    "scrolled": true
   },
   "outputs": [
    {
     "data": {
      "text/plain": [
       "[<matplotlib.lines.Line2D at 0x21192230828>]"
      ]
     },
     "execution_count": 250,
     "metadata": {},
     "output_type": "execute_result"
    },
    {
     "data": {
      "image/png": "[encoded data removed]",
      "text/plain": [
       "<Figure size 432x288 with 1 Axes>"
      ]
     },
     "metadata": {
      "needs_background": "light"
     },
     "output_type": "display_data"
    }
   ],
   "source": [
    "plt.plot(h.history['accuracy'])"
   ]
  },
  {
   "cell_type": "code",
   "execution_count": 251,
   "metadata": {},
   "outputs": [
    {
     "name": "stdout",
     "output_type": "stream",
     "text": [
      "[[ 0.293]\n",
      " [-0.383]\n",
      " [ 0.38 ]\n",
      " [-0.804]]\n",
      "[[ 0.923]\n",
      " [-0.921]\n",
      " [ 0.896]\n",
      " [ 0.243]]\n"
     ]
    }
   ],
   "source": [
    "print(np.matmul(np.transpose(ae.weights[0][:,:]), np.transpose(data[0:1])))\n",
    "print(np.transpose(coeffdata[0:1]))"
   ]
  },
  {
   "cell_type": "code",
   "execution_count": 252,
   "metadata": {},
   "outputs": [
    {
     "name": "stdout",
     "output_type": "stream",
     "text": [
      "[-0.581 -0.601  0.301  0.046 -0.329 -0.26   0.069 -0.17 ]\n",
      "[-0.115 -0.028 -0.182  0.097  0.214  0.199  0.232 -0.232]\n",
      "[ 0.037  0.12   0.143  0.064 -0.038 -0.133  0.012  0.055]\n",
      "[ 0.013  0.066  0.018 -0.038  0.016  0.06   0.061  0.041]\n",
      "tf.Tensor([-0.021 -0.445  0.097  0.958  0.047 -0.361  0.881 -0.076], shape=(8,), dtype=float32)\n",
      "tf.Tensor([-0.092 -0.257 -0.752 -0.102  0.473 -0.397 -0.191 -0.604], shape=(8,), dtype=float32)\n",
      "tf.Tensor([-0.437 -0.505  0.551 -0.495  0.058  0.398  0.154 -0.467], shape=(8,), dtype=float32)\n",
      "tf.Tensor([ 0.227  0.329 -0.323  0.338 -0.091  0.723  0.384 -0.127], shape=(8,), dtype=float32)\n"
     ]
    }
   ],
   "source": [
    "print(pc1)\n",
    "print(pc2)\n",
    "print(pc3)\n",
    "print(pc4)\n",
    "print(ae.weights[0][:,0])\n",
    "print(ae.weights[0][:,1])\n",
    "print(ae.weights[0][:,2])\n",
    "print(ae.weights[0][:,3])"
   ]
  },
  {
   "cell_type": "code",
   "execution_count": 253,
   "metadata": {},
   "outputs": [
    {
     "data": {
      "text/plain": [
       "array([[ 7.694e-05,  2.118e-04, -5.416e-06, -3.195e-05,  1.591e-04,\n",
       "         1.794e-04,  2.574e-04,  6.560e-05]])"
      ]
     },
     "execution_count": 253,
     "metadata": {},
     "output_type": "execute_result"
    }
   ],
   "source": [
    "rv = (np.random.randn(1)*pc1 + np.random.randn(1)*pc2 + np.random.randn(1)*pc3 + np.random.randn(1)*pc4).reshape(1, 8)\n",
    "ae.predict(rv) - rv\n",
    "# It seems to be able to handle arbitrary combinations of the PCs well enough.\n",
    "# But the internal representation is not the same as any of them.\n",
    "# The span of the internal representation seems to be about the same as the span of the first few principal components, though."
   ]
  },
  {
   "cell_type": "code",
   "execution_count": 256,
   "metadata": {},
   "outputs": [],
   "source": [
    "reps = np.zeros((len(data), 4))"
   ]
  },
  {
   "cell_type": "code",
   "execution_count": 258,
   "metadata": {},
   "outputs": [],
   "source": [
    "for i in range(len(data)):\n",
    "    reps[i] = np.matmul(np.transpose(ae.weights[0][:,:]), np.transpose(data[i:(i+1)])).reshape(4)"
   ]
  },
  {
   "cell_type": "code",
   "execution_count": 266,
   "metadata": {},
   "outputs": [
    {
     "data": {
      "text/plain": [
       "<matplotlib.collections.PathCollection at 0x21191d5e438>"
      ]
     },
     "execution_count": 266,
     "metadata": {},
     "output_type": "execute_result"
    },
    {
     "data": {
      "image/png": "[encoded data removed]",
      "text/plain": [
       "<Figure size 432x288 with 1 Axes>"
      ]
     },
     "metadata": {
      "needs_background": "light"
     },
     "output_type": "display_data"
    }
   ],
   "source": [
    "plt.scatter(reps[:,0], reps[:,2])"
   ]
  },
  {
   "cell_type": "code",
   "execution_count": null,
   "metadata": {},
   "outputs": [],
   "source": []
  }
 ],
 "metadata": {
  "kernelspec": {
   "display_name": "Python 3",
   "language": "python",
   "name": "python3"
  },
  "language_info": {
   "codemirror_mode": {
    "name": "ipython",
    "version": 3
   },
   "file_extension": ".py",
   "mimetype": "text/x-python",
   "name": "python",
   "nbconvert_exporter": "python",
   "pygments_lexer": "ipython3",
   "version": "3.7.3"
  }
 },
 "nbformat": 4,
 "nbformat_minor": 2
}
