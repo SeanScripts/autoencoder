{
 "cells": [
  {
   "cell_type": "code",
   "execution_count": 267,
   "metadata": {},
   "outputs": [],
   "source": [
    "import numpy as np\n",
    "import tensorflow as tf\n",
    "from tensorflow.keras.layers import *\n",
    "from tensorflow.keras import Model\n",
    "from tensorflow.keras.models import Sequential\n",
    "import matplotlib.pyplot as plt\n",
    "%matplotlib inline"
   ]
  },
  {
   "cell_type": "code",
   "execution_count": 268,
   "metadata": {},
   "outputs": [],
   "source": [
    "# Generate data\n",
    "# Bias the data along some chosen directions\n",
    "pc1 = (-1+2*np.random.random(8))\n",
    "pc1 = pc1/np.linalg.norm(pc1)\n",
    "pc2 = (-1+2*np.random.random(8))\n",
    "pc2 = pc2/(2*np.linalg.norm(pc2))\n",
    "pc3 = (-1+2*np.random.random(8))\n",
    "pc3 = pc3/(4*np.linalg.norm(pc3))\n",
    "pc4 = (-1+2*np.random.random(8))\n",
    "pc4 = pc4/(8*np.linalg.norm(pc4))\n",
    "data = np.zeros((5000, 8))\n",
    "coeffdata = np.zeros((5000, 4))\n",
    "for i in range(1000):\n",
    "    coeffs = np.random.randn(4)\n",
    "    coeffdata[i] = coeffs\n",
    "    data[i] = pc1 * coeffs[0] + pc2 * coeffs[1] + pc3 * coeffs[2] + pc4 * coeffs[3]"
   ]
  },
  {
   "cell_type": "code",
   "execution_count": 269,
   "metadata": {},
   "outputs": [
    {
     "data": {
      "text/plain": [
       "<matplotlib.collections.PathCollection at 0x21196e77cc0>"
      ]
     },
     "execution_count": 269,
     "metadata": {},
     "output_type": "execute_result"
    },
    {
     "data": {
      "image/png": "[encoded data removed]",
      "text/plain": [
       "<Figure size 576x576 with 1 Axes>"
      ]
     },
     "metadata": {
      "needs_background": "light"
     },
     "output_type": "display_data"
    }
   ],
   "source": [
    "plt.figure(figsize=(8,8))\n",
    "plt.scatter(data[:, 0], data[:, 1])"
   ]
  },
  {
   "cell_type": "code",
   "execution_count": 270,
   "metadata": {},
   "outputs": [
    {
     "name": "stdout",
     "output_type": "stream",
     "text": [
      "Model: \"sequential_38\"\n",
      "_________________________________________________________________\n",
      "Layer (type)                 Output Shape              Param #   \n",
      "=================================================================\n",
      "dense_62 (Dense)             (None, 4)                 32        \n",
      "_________________________________________________________________\n",
      "dense_63 (Dense)             (None, 8)                 32        \n",
      "=================================================================\n",
      "Total params: 64\n",
      "Trainable params: 64\n",
      "Non-trainable params: 0\n",
      "_________________________________________________________________\n"
     ]
    }
   ],
   "source": [
    "# Make the network\n",
    "ae = Sequential()\n",
    "ae.add(Input(8))\n",
    "ae.add(Dense(4, use_bias=False, activation='linear', kernel_initializer='orthogonal'))\n",
    "ae.add(Dense(8, use_bias=False, activation='linear', kernel_initializer='orthogonal'))\n",
    "ae.compile(optimizer='adam', loss='mse', metrics=['accuracy'])\n",
    "ae.summary()"
   ]
  },
  {
   "cell_type": "code",
   "execution_count": 271,
   "metadata": {
    "scrolled": true
   },
   "outputs": [
    {
     "name": "stdout",
     "output_type": "stream",
     "text": [
      "Train on 5000 samples\n",
      "Epoch 1/100\n",
      "5000/5000 [==============================] - 1s 132us/sample - loss: 0.0427 - accuracy: 0.8608\n",
      "Epoch 2/100\n",
      "5000/5000 [==============================] - 0s 99us/sample - loss: 0.0166 - accuracy: 0.8910\n",
      "Epoch 3/100\n",
      "5000/5000 [==============================] - 0s 83us/sample - loss: 0.0071 - accuracy: 0.8856\n",
      "Epoch 4/100\n",
      "5000/5000 [==============================] - 0s 81us/sample - loss: 0.0049 - accuracy: 0.8950\n",
      "Epoch 5/100\n",
      "5000/5000 [==============================] - 0s 93us/sample - loss: 0.0035 - accuracy: 0.9054\n",
      "Epoch 6/100\n",
      "5000/5000 [==============================] - 0s 78us/sample - loss: 0.0023 - accuracy: 0.9234\n",
      "Epoch 7/100\n",
      "5000/5000 [==============================] - 0s 83us/sample - loss: 0.0014 - accuracy: 0.9390\n",
      "Epoch 8/100\n",
      "5000/5000 [==============================] - 0s 86us/sample - loss: 9.3395e-04 - accuracy: 0.9484\n",
      "Epoch 9/100\n",
      "5000/5000 [==============================] - 0s 86us/sample - loss: 6.7389e-04 - accuracy: 0.9516\n",
      "Epoch 10/100\n",
      "5000/5000 [==============================] - 0s 87us/sample - loss: 5.3333e-04 - accuracy: 0.9554\n",
      "Epoch 11/100\n",
      "5000/5000 [==============================] - 0s 84us/sample - loss: 4.4661e-04 - accuracy: 0.9596\n",
      "Epoch 12/100\n",
      "5000/5000 [==============================] - 0s 85us/sample - loss: 3.8963e-04 - accuracy: 0.9614\n",
      "Epoch 13/100\n",
      "5000/5000 [==============================] - 0s 92us/sample - loss: 3.4542e-04 - accuracy: 0.9652\n",
      "Epoch 14/100\n",
      "5000/5000 [==============================] - 0s 91us/sample - loss: 3.1340e-04 - accuracy: 0.9664\n",
      "Epoch 15/100\n",
      "5000/5000 [==============================] - 0s 87us/sample - loss: 2.9006e-04 - accuracy: 0.9694\n",
      "Epoch 16/100\n",
      "5000/5000 [==============================] - 0s 87us/sample - loss: 2.7132e-04 - accuracy: 0.9696\n",
      "Epoch 17/100\n",
      "5000/5000 [==============================] - 0s 84us/sample - loss: 2.5905e-04 - accuracy: 0.9704\n",
      "Epoch 18/100\n",
      "5000/5000 [==============================] - 0s 94us/sample - loss: 2.4748e-04 - accuracy: 0.9700\n",
      "Epoch 19/100\n",
      "5000/5000 [==============================] - 0s 87us/sample - loss: 2.3752e-04 - accuracy: 0.9712\n",
      "Epoch 20/100\n",
      "5000/5000 [==============================] - 0s 80us/sample - loss: 2.3112e-04 - accuracy: 0.9714\n",
      "Epoch 21/100\n",
      "5000/5000 [==============================] - 0s 84us/sample - loss: 2.2464e-04 - accuracy: 0.9720\n",
      "Epoch 22/100\n",
      "5000/5000 [==============================] - 0s 83us/sample - loss: 2.1884e-04 - accuracy: 0.9720\n",
      "Epoch 23/100\n",
      "5000/5000 [==============================] - 0s 89us/sample - loss: 2.1366e-04 - accuracy: 0.9722\n",
      "Epoch 24/100\n",
      "5000/5000 [==============================] - 0s 88us/sample - loss: 2.0877e-04 - accuracy: 0.9726\n",
      "Epoch 25/100\n",
      "5000/5000 [==============================] - 0s 87us/sample - loss: 2.0349e-04 - accuracy: 0.9730\n",
      "Epoch 26/100\n",
      "5000/5000 [==============================] - 0s 92us/sample - loss: 2.0013e-04 - accuracy: 0.9716\n",
      "Epoch 27/100\n",
      "5000/5000 [==============================] - 0s 87us/sample - loss: 1.9835e-04 - accuracy: 0.9718\n",
      "Epoch 28/100\n",
      "5000/5000 [==============================] - 0s 92us/sample - loss: 1.9427e-04 - accuracy: 0.9712\n",
      "Epoch 29/100\n",
      "5000/5000 [==============================] - 0s 89us/sample - loss: 1.9133e-04 - accuracy: 0.9728\n",
      "Epoch 30/100\n",
      "5000/5000 [==============================] - 0s 82us/sample - loss: 1.8975e-04 - accuracy: 0.9716\n",
      "Epoch 31/100\n",
      "5000/5000 [==============================] - 0s 88us/sample - loss: 1.8900e-04 - accuracy: 0.9716\n",
      "Epoch 32/100\n",
      "5000/5000 [==============================] - 0s 87us/sample - loss: 1.8741e-04 - accuracy: 0.9718\n",
      "Epoch 33/100\n",
      "5000/5000 [==============================] - 0s 80us/sample - loss: 1.8459e-04 - accuracy: 0.9722\n",
      "Epoch 34/100\n",
      "5000/5000 [==============================] - 0s 82us/sample - loss: 1.8389e-04 - accuracy: 0.9718\n",
      "Epoch 35/100\n",
      "5000/5000 [==============================] - 0s 80us/sample - loss: 1.8275e-04 - accuracy: 0.9718\n",
      "Epoch 36/100\n",
      "5000/5000 [==============================] - 0s 80us/sample - loss: 1.8095e-04 - accuracy: 0.9726\n",
      "Epoch 37/100\n",
      "5000/5000 [==============================] - 0s 83us/sample - loss: 1.8059e-04 - accuracy: 0.9720\n",
      "Epoch 38/100\n",
      "5000/5000 [==============================] - 0s 85us/sample - loss: 1.8007e-04 - accuracy: 0.9724\n",
      "Epoch 39/100\n",
      "5000/5000 [==============================] - 0s 93us/sample - loss: 1.7954e-04 - accuracy: 0.9724\n",
      "Epoch 40/100\n",
      "5000/5000 [==============================] - 0s 89us/sample - loss: 1.7898e-04 - accuracy: 0.9720\n",
      "Epoch 41/100\n",
      "5000/5000 [==============================] - 0s 79us/sample - loss: 1.7898e-04 - accuracy: 0.9724\n",
      "Epoch 42/100\n",
      "5000/5000 [==============================] - 0s 80us/sample - loss: 1.7789e-04 - accuracy: 0.9724\n",
      "Epoch 43/100\n",
      "5000/5000 [==============================] - 0s 82us/sample - loss: 1.7776e-04 - accuracy: 0.9720\n",
      "Epoch 44/100\n",
      "5000/5000 [==============================] - 0s 78us/sample - loss: 1.7870e-04 - accuracy: 0.9708\n",
      "Epoch 45/100\n",
      "5000/5000 [==============================] - 0s 84us/sample - loss: 1.7756e-04 - accuracy: 0.9738\n",
      "Epoch 46/100\n",
      "5000/5000 [==============================] - 0s 80us/sample - loss: 1.7617e-04 - accuracy: 0.9736\n",
      "Epoch 47/100\n",
      "5000/5000 [==============================] - 0s 81us/sample - loss: 1.7562e-04 - accuracy: 0.9728\n",
      "Epoch 48/100\n",
      "5000/5000 [==============================] - 0s 79us/sample - loss: 1.7492e-04 - accuracy: 0.9728\n",
      "Epoch 49/100\n",
      "5000/5000 [==============================] - 0s 82us/sample - loss: 1.7334e-04 - accuracy: 0.9742\n",
      "Epoch 50/100\n",
      "5000/5000 [==============================] - 0s 78us/sample - loss: 1.7214e-04 - accuracy: 0.9730\n",
      "Epoch 51/100\n",
      "5000/5000 [==============================] - 0s 80us/sample - loss: 1.7216e-04 - accuracy: 0.9726\n",
      "Epoch 52/100\n",
      "5000/5000 [==============================] - 0s 86us/sample - loss: 1.7179e-04 - accuracy: 0.9736s - loss: 1.8327e-04 - accu\n",
      "Epoch 53/100\n",
      "5000/5000 [==============================] - 0s 81us/sample - loss: 1.6838e-04 - accuracy: 0.9744\n",
      "Epoch 54/100\n",
      "5000/5000 [==============================] - 0s 78us/sample - loss: 1.6694e-04 - accuracy: 0.9740\n",
      "Epoch 55/100\n",
      "5000/5000 [==============================] - 0s 84us/sample - loss: 1.6434e-04 - accuracy: 0.9750\n",
      "Epoch 56/100\n",
      "5000/5000 [==============================] - 0s 100us/sample - loss: 1.6202e-04 - accuracy: 0.9752\n",
      "Epoch 57/100\n",
      "5000/5000 [==============================] - 0s 81us/sample - loss: 1.5832e-04 - accuracy: 0.9758\n",
      "Epoch 58/100\n",
      "5000/5000 [==============================] - 0s 81us/sample - loss: 1.5408e-04 - accuracy: 0.9770\n",
      "Epoch 59/100\n",
      "5000/5000 [==============================] - 0s 77us/sample - loss: 1.4922e-04 - accuracy: 0.9766\n",
      "Epoch 60/100\n",
      "5000/5000 [==============================] - 0s 79us/sample - loss: 1.4238e-04 - accuracy: 0.9782\n",
      "Epoch 61/100\n",
      "5000/5000 [==============================] - 0s 76us/sample - loss: 1.3832e-04 - accuracy: 0.9774\n",
      "Epoch 62/100\n",
      "5000/5000 [==============================] - 0s 77us/sample - loss: 1.2944e-04 - accuracy: 0.9780\n",
      "Epoch 63/100\n",
      "5000/5000 [==============================] - 0s 99us/sample - loss: 1.2048e-04 - accuracy: 0.9786\n",
      "Epoch 64/100\n",
      "5000/5000 [==============================] - 0s 77us/sample - loss: 1.0918e-04 - accuracy: 0.9790\n",
      "Epoch 65/100\n",
      "5000/5000 [==============================] - 0s 76us/sample - loss: 9.5710e-05 - accuracy: 0.9820\n",
      "Epoch 66/100\n",
      "5000/5000 [==============================] - 0s 78us/sample - loss: 8.0226e-05 - accuracy: 0.9848\n",
      "Epoch 67/100\n",
      "5000/5000 [==============================] - 0s 80us/sample - loss: 6.1107e-05 - accuracy: 0.9872\n",
      "Epoch 68/100\n",
      "5000/5000 [==============================] - 0s 78us/sample - loss: 4.4788e-05 - accuracy: 0.9884\n",
      "Epoch 69/100\n",
      "5000/5000 [==============================] - 0s 78us/sample - loss: 2.7580e-05 - accuracy: 0.9914\n",
      "Epoch 70/100\n",
      "5000/5000 [==============================] - 0s 83us/sample - loss: 1.4659e-05 - accuracy: 0.9950\n",
      "Epoch 71/100\n",
      "5000/5000 [==============================] - 0s 81us/sample - loss: 6.7448e-06 - accuracy: 0.9968\n",
      "Epoch 72/100\n",
      "5000/5000 [==============================] - 0s 85us/sample - loss: 2.7042e-06 - accuracy: 0.9982\n",
      "Epoch 73/100\n",
      "5000/5000 [==============================] - 0s 76us/sample - loss: 8.7901e-07 - accuracy: 0.9990\n",
      "Epoch 74/100\n"
     ]
    },
    {
     "name": "stdout",
     "output_type": "stream",
     "text": [
      "5000/5000 [==============================] - 0s 80us/sample - loss: 2.3601e-07 - accuracy: 0.9998\n",
      "Epoch 75/100\n",
      "5000/5000 [==============================] - 0s 77us/sample - loss: 5.8806e-08 - accuracy: 1.0000\n",
      "Epoch 76/100\n",
      "5000/5000 [==============================] - 0s 76us/sample - loss: 1.3229e-08 - accuracy: 1.0000\n",
      "Epoch 77/100\n",
      "5000/5000 [==============================] - 0s 87us/sample - loss: 2.4737e-09 - accuracy: 1.0000\n",
      "Epoch 78/100\n",
      "5000/5000 [==============================] - 0s 84us/sample - loss: 4.0276e-10 - accuracy: 1.0000\n",
      "Epoch 79/100\n",
      "5000/5000 [==============================] - 0s 84us/sample - loss: 5.8670e-11 - accuracy: 1.0000\n",
      "Epoch 80/100\n",
      "5000/5000 [==============================] - 0s 78us/sample - loss: 1.5179e-09 - accuracy: 1.0000\n",
      "Epoch 81/100\n",
      "5000/5000 [==============================] - 0s 72us/sample - loss: 8.0847e-08 - accuracy: 0.9996\n",
      "Epoch 82/100\n",
      "5000/5000 [==============================] - 0s 78us/sample - loss: 1.8339e-07 - accuracy: 0.9994\n",
      "Epoch 83/100\n",
      "5000/5000 [==============================] - 0s 81us/sample - loss: 5.6911e-10 - accuracy: 1.0000s - loss: 1.1314e-09 - accura\n",
      "Epoch 84/100\n",
      "5000/5000 [==============================] - 0s 91us/sample - loss: 7.7708e-09 - accuracy: 1.0000\n",
      "Epoch 85/100\n",
      "5000/5000 [==============================] - 0s 80us/sample - loss: 8.5839e-10 - accuracy: 1.0000\n",
      "Epoch 86/100\n",
      "5000/5000 [==============================] - 0s 85us/sample - loss: 7.0038e-12 - accuracy: 1.0000\n",
      "Epoch 87/100\n",
      "5000/5000 [==============================] - 0s 87us/sample - loss: 1.0654e-12 - accuracy: 1.0000\n",
      "Epoch 88/100\n",
      "5000/5000 [==============================] - 0s 76us/sample - loss: 3.9196e-15 - accuracy: 1.0000\n",
      "Epoch 89/100\n",
      "5000/5000 [==============================] - 0s 76us/sample - loss: 6.6737e-16 - accuracy: 1.0000\n",
      "Epoch 90/100\n",
      "5000/5000 [==============================] - 0s 74us/sample - loss: 5.4721e-14 - accuracy: 1.0000\n",
      "Epoch 91/100\n",
      "5000/5000 [==============================] - 0s 78us/sample - loss: 1.4708e-10 - accuracy: 1.0000\n",
      "Epoch 92/100\n",
      "5000/5000 [==============================] - 0s 76us/sample - loss: 1.0770e-06 - accuracy: 0.9992\n",
      "Epoch 93/100\n",
      "5000/5000 [==============================] - 0s 86us/sample - loss: 2.2432e-07 - accuracy: 0.9998\n",
      "Epoch 94/100\n",
      "5000/5000 [==============================] - 0s 71us/sample - loss: 5.0600e-12 - accuracy: 1.0000\n",
      "Epoch 95/100\n",
      "5000/5000 [==============================] - 0s 87us/sample - loss: 1.2082e-12 - accuracy: 1.0000\n",
      "Epoch 96/100\n",
      "5000/5000 [==============================] - 0s 75us/sample - loss: 6.2812e-14 - accuracy: 1.0000\n",
      "Epoch 97/100\n",
      "5000/5000 [==============================] - 0s 78us/sample - loss: 7.6833e-15 - accuracy: 1.0000\n",
      "Epoch 98/100\n",
      "5000/5000 [==============================] - 0s 75us/sample - loss: 6.8997e-16 - accuracy: 1.0000\n",
      "Epoch 99/100\n",
      "5000/5000 [==============================] - 0s 79us/sample - loss: 5.4411e-15 - accuracy: 1.0000\n",
      "Epoch 100/100\n",
      "5000/5000 [==============================] - 0s 81us/sample - loss: 7.2726e-14 - accuracy: 1.0000\n"
     ]
    }
   ],
   "source": [
    "# As an autoencoder, train x and train y are the same\n",
    "h = ae.fit(data, data, epochs = 100)"
   ]
  },
  {
   "cell_type": "code",
   "execution_count": 272,
   "metadata": {
    "scrolled": true
   },
   "outputs": [
    {
     "data": {
      "text/plain": [
       "[<matplotlib.lines.Line2D at 0x2119703a2b0>]"
      ]
     },
     "execution_count": 272,
     "metadata": {},
     "output_type": "execute_result"
    },
    {
     "data": {
      "image/png": "[encoded data removed]",
      "text/plain": [
       "<Figure size 432x288 with 1 Axes>"
      ]
     },
     "metadata": {
      "needs_background": "light"
     },
     "output_type": "display_data"
    }
   ],
   "source": [
    "plt.plot(h.history['accuracy'])"
   ]
  },
  {
   "cell_type": "code",
   "execution_count": 273,
   "metadata": {},
   "outputs": [
    {
     "name": "stdout",
     "output_type": "stream",
     "text": [
      "[[ 0.336]\n",
      " [-0.432]\n",
      " [-0.502]\n",
      " [-0.511]]\n",
      "[[ 0.675]\n",
      " [-0.709]\n",
      " [ 0.42 ]\n",
      " [-0.475]]\n"
     ]
    }
   ],
   "source": [
    "print(np.matmul(np.transpose(ae.weights[0][:,:]), np.transpose(data[0:1])))\n",
    "print(np.transpose(coeffdata[0:1]))"
   ]
  },
  {
   "cell_type": "code",
   "execution_count": 274,
   "metadata": {},
   "outputs": [
    {
     "name": "stdout",
     "output_type": "stream",
     "text": [
      "[ 0.432  0.378  0.428 -0.387 -0.224 -0.41  -0.273  0.212]\n",
      "[-0.173 -0.248 -0.263  0.052 -0.2   -0.121  0.065  0.167]\n",
      "[-0.061 -0.093  0.131  0.007 -0.107  0.021  0.03   0.142]\n",
      "[ 0.04  -0.063 -0.06   0.031  0.049 -0.009 -0.014 -0.053]\n",
      "tf.Tensor([ 0.556  0.232 -0.565 -0.617 -0.374 -0.254 -0.124  0.52 ], shape=(8,), dtype=float32)\n",
      "tf.Tensor([ 0.187 -0.988 -0.056  0.352  0.723 -0.281 -0.414 -0.238], shape=(8,), dtype=float32)\n",
      "tf.Tensor([-0.59   0.529 -0.724  0.345  0.255 -0.041 -0.104 -0.041], shape=(8,), dtype=float32)\n",
      "tf.Tensor([-0.138 -0.936 -0.026 -0.113 -0.008  0.033  0.664  0.543], shape=(8,), dtype=float32)\n"
     ]
    }
   ],
   "source": [
    "print(pc1)\n",
    "print(pc2)\n",
    "print(pc3)\n",
    "print(pc4)\n",
    "print(ae.weights[0][:,0])\n",
    "print(ae.weights[0][:,1])\n",
    "print(ae.weights[0][:,2])\n",
    "print(ae.weights[0][:,3])"
   ]
  },
  {
   "cell_type": "code",
   "execution_count": 275,
   "metadata": {},
   "outputs": [
    {
     "data": {
      "text/plain": [
       "array([[ 6.605e-07, -5.524e-07, -2.202e-06,  6.340e-07,  1.366e-06,\n",
       "        -5.944e-07, -3.952e-07, -1.542e-06]])"
      ]
     },
     "execution_count": 275,
     "metadata": {},
     "output_type": "execute_result"
    }
   ],
   "source": [
    "rv = (np.random.randn(1)*pc1 + np.random.randn(1)*pc2 + np.random.randn(1)*pc3 + np.random.randn(1)*pc4).reshape(1, 8)\n",
    "ae.predict(rv) - rv\n",
    "# It seems to be able to handle arbitrary combinations of the PCs well enough.\n",
    "# But the internal representation is not the same as any of them.\n",
    "# The span of the internal representation seems to be about the same as the span of the first few principal components, though."
   ]
  },
  {
   "cell_type": "code",
   "execution_count": 276,
   "metadata": {},
   "outputs": [],
   "source": [
    "reps = np.zeros((len(data), 4))"
   ]
  },
  {
   "cell_type": "code",
   "execution_count": 277,
   "metadata": {},
   "outputs": [],
   "source": [
    "for i in range(len(data)):\n",
    "    reps[i] = np.matmul(np.transpose(ae.weights[0][:,:]), np.transpose(data[i:(i+1)])).reshape(4)"
   ]
  },
  {
   "cell_type": "code",
   "execution_count": 278,
   "metadata": {},
   "outputs": [
    {
     "data": {
      "text/plain": [
       "<matplotlib.collections.PathCollection at 0x211970ca0b8>"
      ]
     },
     "execution_count": 278,
     "metadata": {},
     "output_type": "execute_result"
    },
    {
     "data": {
      "image/png": "[encoded data removed]",
      "text/plain": [
       "<Figure size 432x288 with 1 Axes>"
      ]
     },
     "metadata": {
      "needs_background": "light"
     },
     "output_type": "display_data"
    }
   ],
   "source": [
    "plt.scatter(reps[:,0], reps[:,2])"
   ]
  },
  {
   "cell_type": "code",
   "execution_count": 288,
   "metadata": {},
   "outputs": [
    {
     "name": "stdout",
     "output_type": "stream",
     "text": [
      "1.6391277e-06\n",
      "1.4901161e-06\n"
     ]
    }
   ],
   "source": [
    "# Something extremely interesting: The pair of matrices learned by the autoencoder are pseudoinverses!\n",
    "# ABA = A, BAB = B (The differences between them are on the order of 10^-6, anyway)\n",
    "print(np.max(np.matmul(np.transpose(ae.weights[0][:,:]), np.matmul(np.transpose(ae.weights[1][:,:]), np.transpose(ae.weights[0][:,:]))) - np.transpose(ae.weights[0][:,:])))\n",
    "print(np.max(np.matmul(np.transpose(ae.weights[1][:,:]), np.matmul(np.transpose(ae.weights[0][:,:]), np.transpose(ae.weights[1][:,:]))) - np.transpose(ae.weights[1][:,:])))"
   ]
  },
  {
   "cell_type": "code",
   "execution_count": null,
   "metadata": {},
   "outputs": [],
   "source": [
    "# Another description I heard of this was that given some input vector, \n",
    "# the output vector is the projection onto the subspace spanned by the first four principal components.\n",
    "# This encoder learns some projection onto this subspace, then learns the pseudoinverse of that."
   ]
  },
  {
   "cell_type": "code",
   "execution_count": 572,
   "metadata": {},
   "outputs": [],
   "source": [
    "def generate_image(k1, k2, n1, n2, s=11):\n",
    "    a = np.array([[1 if (s*j + i)%n1 == k1 else 0 for i in range(s)] for j in range(s)])\n",
    "    return a + np.array([[1 if (s*i + j)%n2 == k2 else 0 for i in range(s)] for j in range(s)])"
   ]
  },
  {
   "cell_type": "code",
   "execution_count": 590,
   "metadata": {},
   "outputs": [
    {
     "data": {
      "text/plain": [
       "<matplotlib.image.AxesImage at 0x211aa3efd30>"
      ]
     },
     "execution_count": 590,
     "metadata": {},
     "output_type": "execute_result"
    },
    {
     "data": {
      "image/png": "[encoded data removed]",
      "text/plain": [
       "<Figure size 432x288 with 1 Axes>"
      ]
     },
     "metadata": {
      "needs_background": "light"
     },
     "output_type": "display_data"
    }
   ],
   "source": [
    "plt.imshow(generate_image(0, 0, 8, 5))"
   ]
  },
  {
   "cell_type": "code",
   "execution_count": 423,
   "metadata": {},
   "outputs": [
    {
     "name": "stdout",
     "output_type": "stream",
     "text": [
      "[4.0, 25.0, 81.0, 196.0, 400.0, 729.0, 1225.0, 1936.0, 2916.0]\n"
     ]
    }
   ],
   "source": [
    "# total count of patterns for each n:\n",
    "print([(((n+1)*n/2 - (n+1)))**2 for n in range(3, 12)])"
   ]
  },
  {
   "cell_type": "code",
   "execution_count": 591,
   "metadata": {},
   "outputs": [],
   "source": [
    "# Ignore \"mod 1\" case\n",
    "def gen_all_images(s=11):\n",
    "    patterns = int((((s+1)*s/2 - (s+1)))**2)\n",
    "    imgs = np.zeros((patterns, s, s))\n",
    "    index = 0\n",
    "    for n1 in range(2, s):\n",
    "        for n2 in range(2, s):\n",
    "            for k1 in range(0, n1):\n",
    "                for k2 in range(0, n2):\n",
    "                    imgs[index] = generate_image(k1, k2, n1, n2, s)\n",
    "                    index += 1\n",
    "    return imgs"
   ]
  },
  {
   "cell_type": "code",
   "execution_count": 592,
   "metadata": {},
   "outputs": [],
   "source": [
    "imgs = gen_all_images(11)"
   ]
  },
  {
   "cell_type": "code",
   "execution_count": 593,
   "metadata": {},
   "outputs": [
    {
     "data": {
      "text/plain": [
       "(2916, 11, 11)"
      ]
     },
     "execution_count": 593,
     "metadata": {},
     "output_type": "execute_result"
    }
   ],
   "source": [
    "imgs.shape"
   ]
  },
  {
   "cell_type": "code",
   "execution_count": 698,
   "metadata": {},
   "outputs": [
    {
     "name": "stdout",
     "output_type": "stream",
     "text": [
      "Model: \"sequential_76\"\n",
      "_________________________________________________________________\n",
      "Layer (type)                 Output Shape              Param #   \n",
      "=================================================================\n",
      "flatten_38 (Flatten)         (None, 121)               0         \n",
      "_________________________________________________________________\n",
      "dense_218 (Dense)            (None, 40)                4840      \n",
      "_________________________________________________________________\n",
      "dense_219 (Dense)            (None, 121)               4840      \n",
      "_________________________________________________________________\n",
      "reshape_36 (Reshape)         (None, 11, 11)            0         \n",
      "=================================================================\n",
      "Total params: 9,680\n",
      "Trainable params: 9,680\n",
      "Non-trainable params: 0\n",
      "_________________________________________________________________\n"
     ]
    }
   ],
   "source": [
    "ae2 = Sequential()\n",
    "ae2.add(Input((11, 11)))\n",
    "ae2.add(Flatten())\n",
    "ae2.add(Dense(40, use_bias=False, activation='linear'))\n",
    "ae2.add(Dense(121, use_bias=False, activation='linear'))\n",
    "ae2.add(Reshape((11, 11)))\n",
    "ae2.compile(optimizer='adam', loss='mse', metrics=['mse'])\n",
    "ae2.summary()"
   ]
  },
  {
   "cell_type": "code",
   "execution_count": 699,
   "metadata": {},
   "outputs": [
    {
     "name": "stdout",
     "output_type": "stream",
     "text": [
      "Train on 2916 samples\n",
      "Epoch 1/50\n",
      "2916/2916 [==============================] - 0s 151us/sample - loss: 0.3057 - mse: 0.3057\n",
      "Epoch 2/50\n",
      "2916/2916 [==============================] - 0s 84us/sample - loss: 0.1165 - mse: 0.1165\n",
      "Epoch 3/50\n",
      "2916/2916 [==============================] - 0s 99us/sample - loss: 0.0692 - mse: 0.0692\n",
      "Epoch 4/50\n",
      "2916/2916 [==============================] - 0s 92us/sample - loss: 0.0476 - mse: 0.0476\n",
      "Epoch 5/50\n",
      "2916/2916 [==============================] - 0s 82us/sample - loss: 0.0346 - mse: 0.0346\n",
      "Epoch 6/50\n",
      "2916/2916 [==============================] - 0s 81us/sample - loss: 0.0261 - mse: 0.0261\n",
      "Epoch 7/50\n",
      "2916/2916 [==============================] - 0s 86us/sample - loss: 0.0203 - mse: 0.0203\n",
      "Epoch 8/50\n",
      "2916/2916 [==============================] - 0s 82us/sample - loss: 0.0160 - mse: 0.0160\n",
      "Epoch 9/50\n",
      "2916/2916 [==============================] - 0s 87us/sample - loss: 0.0128 - mse: 0.0128\n",
      "Epoch 10/50\n",
      "2916/2916 [==============================] - 0s 82us/sample - loss: 0.0104 - mse: 0.0104\n",
      "Epoch 11/50\n",
      "2916/2916 [==============================] - 0s 84us/sample - loss: 0.0086 - mse: 0.0086\n",
      "Epoch 12/50\n",
      "2916/2916 [==============================] - 0s 86us/sample - loss: 0.0073 - mse: 0.0073\n",
      "Epoch 13/50\n",
      "2916/2916 [==============================] - 0s 82us/sample - loss: 0.0062 - mse: 0.0062\n",
      "Epoch 14/50\n",
      "2916/2916 [==============================] - 0s 83us/sample - loss: 0.0053 - mse: 0.0053\n",
      "Epoch 15/50\n",
      "2916/2916 [==============================] - 0s 86us/sample - loss: 0.0045 - mse: 0.0045\n",
      "Epoch 16/50\n",
      "2916/2916 [==============================] - 0s 88us/sample - loss: 0.0039 - mse: 0.0039\n",
      "Epoch 17/50\n",
      "2916/2916 [==============================] - 0s 86us/sample - loss: 0.0033 - mse: 0.0033\n",
      "Epoch 18/50\n",
      "2916/2916 [==============================] - 0s 88us/sample - loss: 0.0029 - mse: 0.0029\n",
      "Epoch 19/50\n",
      "2916/2916 [==============================] - 0s 89us/sample - loss: 0.0026 - mse: 0.0026\n",
      "Epoch 20/50\n",
      "2916/2916 [==============================] - 0s 86us/sample - loss: 0.0023 - mse: 0.0023\n",
      "Epoch 21/50\n",
      "2916/2916 [==============================] - 0s 90us/sample - loss: 0.0021 - mse: 0.0021\n",
      "Epoch 22/50\n",
      "2916/2916 [==============================] - 0s 85us/sample - loss: 0.0020 - mse: 0.0020\n",
      "Epoch 23/50\n",
      "2916/2916 [==============================] - 0s 99us/sample - loss: 0.0019 - mse: 0.0019\n",
      "Epoch 24/50\n",
      "2916/2916 [==============================] - 0s 98us/sample - loss: 0.0019 - mse: 0.0019\n",
      "Epoch 25/50\n",
      "2916/2916 [==============================] - 0s 97us/sample - loss: 0.0019 - mse: 0.0019\n",
      "Epoch 26/50\n",
      "2916/2916 [==============================] - 0s 98us/sample - loss: 0.0018 - mse: 0.0018\n",
      "Epoch 27/50\n",
      "2916/2916 [==============================] - 0s 96us/sample - loss: 0.0018 - mse: 0.0018\n",
      "Epoch 28/50\n",
      "2916/2916 [==============================] - 0s 91us/sample - loss: 0.0018 - mse: 0.0018\n",
      "Epoch 29/50\n",
      "2916/2916 [==============================] - 0s 89us/sample - loss: 0.0018 - mse: 0.0018\n",
      "Epoch 30/50\n",
      "2916/2916 [==============================] - 0s 86us/sample - loss: 0.0018 - mse: 0.0018\n",
      "Epoch 31/50\n",
      "2916/2916 [==============================] - 0s 88us/sample - loss: 0.0018 - mse: 0.0018\n",
      "Epoch 32/50\n",
      "2916/2916 [==============================] - 0s 89us/sample - loss: 0.0018 - mse: 0.0018\n",
      "Epoch 33/50\n",
      "2916/2916 [==============================] - 0s 83us/sample - loss: 0.0018 - mse: 0.0018\n",
      "Epoch 34/50\n",
      "2916/2916 [==============================] - 0s 90us/sample - loss: 0.0018 - mse: 0.0018\n",
      "Epoch 35/50\n",
      "2916/2916 [==============================] - 0s 89us/sample - loss: 0.0018 - mse: 0.0018\n",
      "Epoch 36/50\n",
      "2916/2916 [==============================] - 0s 85us/sample - loss: 0.0018 - mse: 0.0018\n",
      "Epoch 37/50\n",
      "2916/2916 [==============================] - 0s 87us/sample - loss: 0.0018 - mse: 0.0018\n",
      "Epoch 38/50\n",
      "2916/2916 [==============================] - 0s 87us/sample - loss: 0.0018 - mse: 0.0018\n",
      "Epoch 39/50\n",
      "2916/2916 [==============================] - 0s 88us/sample - loss: 0.0018 - mse: 0.0018\n",
      "Epoch 40/50\n",
      "2916/2916 [==============================] - 0s 88us/sample - loss: 0.0018 - mse: 0.0018\n",
      "Epoch 41/50\n",
      "2916/2916 [==============================] - 0s 87us/sample - loss: 0.0018 - mse: 0.0018\n",
      "Epoch 42/50\n",
      "2916/2916 [==============================] - 0s 89us/sample - loss: 0.0018 - mse: 0.0018\n",
      "Epoch 43/50\n",
      "2916/2916 [==============================] - 0s 86us/sample - loss: 0.0018 - mse: 0.0018\n",
      "Epoch 44/50\n",
      "2916/2916 [==============================] - 0s 89us/sample - loss: 0.0019 - mse: 0.0019\n",
      "Epoch 45/50\n",
      "2916/2916 [==============================] - 0s 92us/sample - loss: 0.0018 - mse: 0.0018\n",
      "Epoch 46/50\n",
      "2916/2916 [==============================] - 0s 86us/sample - loss: 0.0018 - mse: 0.0018\n",
      "Epoch 47/50\n",
      "2916/2916 [==============================] - 0s 90us/sample - loss: 0.0018 - mse: 0.0018\n",
      "Epoch 48/50\n",
      "2916/2916 [==============================] - 0s 84us/sample - loss: 0.0019 - mse: 0.0019\n",
      "Epoch 49/50\n",
      "2916/2916 [==============================] - 0s 90us/sample - loss: 0.0019 - mse: 0.0019\n",
      "Epoch 50/50\n",
      "2916/2916 [==============================] - 0s 86us/sample - loss: 0.0018 - mse: 0.0018\n"
     ]
    }
   ],
   "source": [
    "h = ae2.fit(imgs, imgs, epochs = 50)"
   ]
  },
  {
   "cell_type": "code",
   "execution_count": 700,
   "metadata": {},
   "outputs": [
    {
     "name": "stdout",
     "output_type": "stream",
     "text": [
      "Actual difference: 0.000%\n"
     ]
    },
    {
     "data": {
      "image/png": "[encoded data removed]",
      "text/plain": [
       "<Figure size 432x288 with 2 Axes>"
      ]
     },
     "metadata": {
      "needs_background": "light"
     },
     "output_type": "display_data"
    }
   ],
   "source": [
    "ind = 1295\n",
    "f, (ax1, ax2) = plt.subplots(1,2)\n",
    "ax1.imshow(imgs[ind])\n",
    "pred = ae2.predict(imgs[ind:(ind+1)]).reshape(11,11).round()\n",
    "ax2.imshow(pred)\n",
    "print('Actual difference: {:.3f}%'.format(100*(np.sum(np.abs(imgs[ind] - pred))/121)))"
   ]
  },
  {
   "cell_type": "code",
   "execution_count": 701,
   "metadata": {},
   "outputs": [],
   "source": [
    "preds = ae2.predict(imgs).reshape(2916, 11, 11).round()\n",
    "avg_diff = np.sum(np.abs(preds - imgs))/(121*2916)"
   ]
  },
  {
   "cell_type": "code",
   "execution_count": 702,
   "metadata": {},
   "outputs": [
    {
     "name": "stdout",
     "output_type": "stream",
     "text": [
      "Average difference: 0.00000000%\n"
     ]
    }
   ],
   "source": [
    "print('Average difference: {:.8f}%'.format(100*avg_diff))"
   ]
  },
  {
   "cell_type": "code",
   "execution_count": null,
   "metadata": {},
   "outputs": [],
   "source": [
    "# 40 neurons in the hidden layer seems to be the first place that the reproduction is actually 100% correct (when rounded).\n",
    "# I tried adding more layers and different activation functions, but it nearly always just increased the error.\n",
    "# This is odd, because I created these images with just 4 numbers,\n",
    "# but I guess it would be unrealistic to hope for the model to learn the exact same representation."
   ]
  },
  {
   "cell_type": "code",
   "execution_count": 712,
   "metadata": {},
   "outputs": [
    {
     "data": {
      "text/plain": [
       "(40, 121)"
      ]
     },
     "execution_count": 712,
     "metadata": {},
     "output_type": "execute_result"
    }
   ],
   "source": [
    "W1 = np.transpose(ae2.weights[0][:,:])\n",
    "W2 = np.transpose(ae2.weights[1][:,:])"
   ]
  },
  {
   "cell_type": "code",
   "execution_count": 737,
   "metadata": {},
   "outputs": [
    {
     "data": {
      "text/plain": [
       "<matplotlib.image.AxesImage at 0x2119b3d3d30>"
      ]
     },
     "execution_count": 737,
     "metadata": {},
     "output_type": "execute_result"
    },
    {
     "data": {
      "image/png": "[encoded data removed]",
      "text/plain": [
       "<Figure size 576x576 with 1 Axes>"
      ]
     },
     "metadata": {
      "needs_background": "light"
     },
     "output_type": "display_data"
    }
   ],
   "source": [
    "plt.figure(figsize=(8,8))\n",
    "plt.imshow(np.matmul(W2, W1))"
   ]
  },
  {
   "cell_type": "code",
   "execution_count": 756,
   "metadata": {},
   "outputs": [],
   "source": [
    "encoded = np.array([np.matmul(W1, imgs[i].reshape(121,1)) for i in range(len(imgs))])"
   ]
  },
  {
   "cell_type": "code",
   "execution_count": 757,
   "metadata": {},
   "outputs": [],
   "source": [
    "means = np.mean(encoded, axis=0)\n",
    "stds = np.std(encoded, axis=0)"
   ]
  },
  {
   "cell_type": "code",
   "execution_count": null,
   "metadata": {},
   "outputs": [],
   "source": [
    "# I couldn't really find anything interesting about the structure of this feature representation.\n",
    "# It does manage to recreate the images, somehow.\n",
    "# Just not as efficiently as I would have hoped."
   ]
  },
  {
   "cell_type": "code",
   "execution_count": null,
   "metadata": {},
   "outputs": [],
   "source": []
  }
 ],
 "metadata": {
  "kernelspec": {
   "display_name": "Python 3",
   "language": "python",
   "name": "python3"
  },
  "language_info": {
   "codemirror_mode": {
    "name": "ipython",
    "version": 3
   },
   "file_extension": ".py",
   "mimetype": "text/x-python",
   "name": "python",
   "nbconvert_exporter": "python",
   "pygments_lexer": "ipython3",
   "version": "3.7.3"
  }
 },
 "nbformat": 4,
 "nbformat_minor": 2
}
